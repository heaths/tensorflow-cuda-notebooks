{
 "cells": [
  {
   "cell_type": "markdown",
   "metadata": {},
   "source": [
    "# Test "
   ]
  },
  {
   "cell_type": "markdown",
   "metadata": {},
   "source": [
    "This is a simple test to make sure that [TensorFlow](https://tensorflow.org) sees your CUDA-supported GPU. If importing TensorFlow and enumerating devices does not work, run the following code in interactive Python to see what warnings are displayed."
   ]
  },
  {
   "cell_type": "code",
   "execution_count": 1,
   "metadata": {},
   "outputs": [
    {
     "name": "stdout",
     "output_type": "stream",
     "text": [
      "Using TensorFlow version 2.2.0\n"
     ]
    }
   ],
   "source": [
    "import tensorflow as tf\n",
    "print(f'Using TensorFlow version {tf.version.VERSION}')"
   ]
  },
  {
   "cell_type": "code",
   "execution_count": 2,
   "metadata": {},
   "outputs": [
    {
     "name": "stdout",
     "output_type": "stream",
     "text": [
      "Name=/physical_device:CPU:0, Type=CPU\n",
      "Name=/physical_device:XLA_CPU:0, Type=XLA_CPU\n",
      "Name=/physical_device:GPU:0, Type=GPU\n",
      "Name=/physical_device:XLA_GPU:0, Type=XLA_GPU\n"
     ]
    }
   ],
   "source": [
    "for d in tf.config.list_physical_devices():\n",
    "    print(f'Name={d.name}, Type={d.device_type}')"
   ]
  }
 ],
 "metadata": {
  "kernelspec": {
   "display_name": "Python 3",
   "language": "python",
   "name": "python3"
  },
  "language_info": {
   "codemirror_mode": {
    "name": "ipython",
    "version": 3
   },
   "file_extension": ".py",
   "mimetype": "text/x-python",
   "name": "python",
   "nbconvert_exporter": "python",
   "pygments_lexer": "ipython3",
   "version": "3.8.3"
  }
 },
 "nbformat": 4,
 "nbformat_minor": 4
}
